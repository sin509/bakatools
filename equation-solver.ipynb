{
 "cells": [
  {
   "cell_type": "code",
   "execution_count": 1,
   "metadata": {},
   "outputs": [
    {
     "name": "stdout",
     "output_type": "stream",
     "text": [
      "{12: 12.1627914802251}\n"
     ]
    }
   ],
   "source": [
    "import sympy\n",
    "y=sympy.symbols(\"y\") #声明变量\n",
    "list1=[12] #定义自变量的取值\n",
    "A=sympy.Float(21.9896) #定义已知变量取值\n",
    "B=sympy.Float(28.74859) \n",
    "c=14\n",
    "i=100\n",
    "y_start=12 # 定义初始解\n",
    "ans={}\n",
    "for x in list1:\n",
    "    \n",
    "    function_1=(1000*A*(10**(x-c)))*((10**(y-x))-1)+(1000*B*(10**(-x)))*(1-(10**(x-y)))-i #定义函数方程\n",
    "    ans_1=sympy.nsolve(function_1,y,y_start) \n",
    "\n",
    "    ans[x]=ans_1\n",
    "print(ans)\n"
   ]
  },
  {
   "cell_type": "code",
   "execution_count": 2,
   "metadata": {},
   "outputs": [
    {
     "name": "stdout",
     "output_type": "stream",
     "text": [
      "{12: 12.162791480225149, 13: 13.019314085535612}\n"
     ]
    }
   ],
   "source": [
    "import numpy as np\n",
    "import scipy\n",
    "A=np.float64(21.9896) #定义已知变量取值\n",
    "B=np.float64(28.74859)\n",
    "c=14\n",
    "i=100\n",
    "list_x=[12,13]\n",
    "ans_y={}\n",
    "for x in list_x:\n",
    "    eq=lambda y:(1000*A*(10**(x-c)))*((10**(y-x))-1)+(1000*B*(10**(-x)))*(1-(10**(x-y)))-i #定义函数方程\n",
    "    ans=scipy.optimize.brentq(eq,-100,100)\n",
    "    ans_y[x]=ans\n",
    "print(ans_y)"
   ]
  },
  {
   "cell_type": "code",
   "execution_count": 4,
   "metadata": {},
   "outputs": [
    {
     "data": {
      "text/plain": [
       "1.4210854715202004e-14"
      ]
     },
     "execution_count": 4,
     "metadata": {},
     "output_type": "execute_result"
    }
   ],
   "source": [
    "A=np.float64(21.9896) #定义已知变量取值\n",
    "B=np.float64(28.74859)\n",
    "c=14\n",
    "i=100\n",
    "x=12\n",
    "y=12.162791480225149\n",
    "ans2=(1000*A*(10**(x-c)))*((10**(y-x))-1)+(1000*B*(10**(-x)))*(1-(10**(x-y)))-i\n",
    "ans2"
   ]
  },
  {
   "cell_type": "code",
   "execution_count": null,
   "metadata": {},
   "outputs": [],
   "source": []
  }
 ],
 "metadata": {
  "kernelspec": {
   "display_name": "deeplearn",
   "language": "python",
   "name": "python3"
  },
  "language_info": {
   "codemirror_mode": {
    "name": "ipython",
    "version": 3
   },
   "file_extension": ".py",
   "mimetype": "text/x-python",
   "name": "python",
   "nbconvert_exporter": "python",
   "pygments_lexer": "ipython3",
   "version": "3.9.17"
  },
  "orig_nbformat": 4
 },
 "nbformat": 4,
 "nbformat_minor": 2
}
